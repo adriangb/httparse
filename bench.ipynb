{
 "cells": [
  {
   "cell_type": "code",
   "execution_count": 1,
   "metadata": {},
   "outputs": [],
   "source": [
    "from httparse import RequestParser\n",
    "from httptools import HttpRequestParser"
   ]
  },
  {
   "cell_type": "code",
   "execution_count": 2,
   "metadata": {},
   "outputs": [],
   "source": [
    "small = b\"GET /cookies/foo/bar/baz?a=1&b=2 HTTP/1.1\\r\\nHost: 127.0.0.1:8090\\r\\nConnection: keep-alive\\r\\nCache-Control: max-age=0\\r\\nAccept: text/html,application/xhtml+xml,application/xml;q=0.9,*/*;q=0.8\\r\\nUser-Agent: Mozilla/5.0 (Windows NT 6.1; WOW64) AppleWebKit/537.17 (KHTML, like Gecko) Chrome/24.0.1312.56 Safari/537.17\\r\\nAccept-Encoding: gzip,deflate,sdch\\r\\nAccept-Language: en-US,en;q=0.8\\r\\nAccept-Charset: ISO-8859-1,utf-8;q=0.7,*;q=0.3\\r\\nCookie: name=wookie\\r\\n\\r\\n\""
   ]
  },
  {
   "cell_type": "code",
   "execution_count": 3,
   "metadata": {},
   "outputs": [],
   "source": [
    "import string\n",
    "import random\n",
    "import itertools\n",
    "from typing import Iterable\n",
    "\n",
    "CHARS = string.ascii_uppercase + string.digits + string.ascii_lowercase\n",
    "\n",
    "CHUNK_SIZE = 65_536\n",
    "\n",
    "\n",
    "def get_random_string(n: int) -> str:\n",
    "    return ''.join(random.choices(CHARS, k=n))\n",
    "\n",
    "headers = [\n",
    "    (f\"X-{get_random_string(15)}\".encode(), get_random_string(1024))\n",
    "    for _ in range(128)\n",
    "]\n",
    "\n",
    "headers_data = \"\\r\\n\".join([f\"{name}: {val}\" for name, val in headers])\n",
    "\n",
    "large = f\"GET /cookies/foo/bar/baz?a=1&b=2 HTTP/1.1\\r\\n{headers_data}\\r\\n\\r\\n\".encode()\n",
    "\n",
    "def grouper(n: int, data: bytes) -> Iterable[bytes]:\n",
    "    it = iter(data)\n",
    "    while True:\n",
    "        chunk = tuple(itertools.islice(it, n))\n",
    "        if not chunk:\n",
    "            return\n",
    "        yield bytes(chunk)"
   ]
  },
  {
   "cell_type": "code",
   "execution_count": 4,
   "metadata": {},
   "outputs": [],
   "source": [
    "def parse_until_complete_httparse(parser: RequestParser, chunks: Iterable[bytes]):\n",
    "    buff = bytearray()\n",
    "    for chunk in chunks:\n",
    "        buff.extend(chunk)\n",
    "        res = parser.parse(bytes(buff))\n",
    "        if res is not None:\n",
    "            return\n",
    "\n",
    "class Proto:\n",
    "    __slots__ = (\"done\")\n",
    "    def __init__(self):\n",
    "        self.done = False\n",
    "    def on_headers_complete(self):\n",
    "        self.done = True\n",
    "\n",
    "def parse_until_complete_httptools(chunks: Iterable[bytes]):\n",
    "    proto = Proto()\n",
    "    parser = HttpRequestParser(proto)\n",
    "    for chunk in chunks:\n",
    "        parser.feed_data(chunk)\n",
    "        if proto.done:\n",
    "            return\n",
    "\n",
    "\n",
    "SMALL_CHUNKS = list(grouper(CHUNK_SIZE, small))\n",
    "LARGE_CHUNKS = list(grouper(CHUNK_SIZE, large))"
   ]
  },
  {
   "cell_type": "code",
   "execution_count": 5,
   "metadata": {},
   "outputs": [
    {
     "name": "stdout",
     "output_type": "stream",
     "text": [
      "2.21 µs ± 64.4 ns per loop (mean ± std. dev. of 7 runs, 100,000 loops each)\n"
     ]
    }
   ],
   "source": [
    "%timeit parse_until_complete_httptools(SMALL_CHUNKS)"
   ]
  },
  {
   "cell_type": "code",
   "execution_count": 6,
   "metadata": {},
   "outputs": [
    {
     "name": "stdout",
     "output_type": "stream",
     "text": [
      "1.32 µs ± 10.3 ns per loop (mean ± std. dev. of 7 runs, 1,000,000 loops each)\n"
     ]
    }
   ],
   "source": [
    "parser = RequestParser()\n",
    "%timeit parse_until_complete_httparse(parser, SMALL_CHUNKS)"
   ]
  },
  {
   "cell_type": "code",
   "execution_count": 7,
   "metadata": {},
   "outputs": [
    {
     "name": "stdout",
     "output_type": "stream",
     "text": [
      "49.1 µs ± 739 ns per loop (mean ± std. dev. of 7 runs, 10,000 loops each)\n"
     ]
    }
   ],
   "source": [
    "%timeit parse_until_complete_httptools(LARGE_CHUNKS)"
   ]
  },
  {
   "cell_type": "code",
   "execution_count": 8,
   "metadata": {},
   "outputs": [
    {
     "name": "stdout",
     "output_type": "stream",
     "text": [
      "102 µs ± 1.31 µs per loop (mean ± std. dev. of 7 runs, 10,000 loops each)\n"
     ]
    }
   ],
   "source": [
    "parser = RequestParser()\n",
    "%timeit parse_until_complete_httparse(parser, LARGE_CHUNKS)"
   ]
  }
 ],
 "metadata": {
  "kernelspec": {
   "display_name": "Python 3.10.3 ('.venv': venv)",
   "language": "python",
   "name": "python3"
  },
  "language_info": {
   "codemirror_mode": {
    "name": "ipython",
    "version": 3
   },
   "file_extension": ".py",
   "mimetype": "text/x-python",
   "name": "python",
   "nbconvert_exporter": "python",
   "pygments_lexer": "ipython3",
   "version": "3.10.8"
  },
  "orig_nbformat": 4,
  "vscode": {
   "interpreter": {
    "hash": "648e8473d8d9cae672a869becd3efe538bf298395a14c3f7dba08be45ce71d6a"
   }
  }
 },
 "nbformat": 4,
 "nbformat_minor": 2
}
